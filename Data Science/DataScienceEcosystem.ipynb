{
 "cells": [
  {
   "cell_type": "markdown",
   "id": "b6f5b605-edc1-4cfe-8974-ee63d592c0f2",
   "metadata": {},
   "source": [
    "# Data Science Tool and Ecosystem"
   ]
  },
  {
   "cell_type": "markdown",
   "id": "16ebf682-b7af-4e46-a4be-2f98dc36b796",
   "metadata": {},
   "source": [
    "## In this notebook, Data Science Tools and Ecosystem are reviewed and summarized."
   ]
  },
  {
   "cell_type": "markdown",
   "id": "76ec94ed-0933-48ca-81bb-c06cd8b678f1",
   "metadata": {},
   "source": [
    "## **Objectives**:\n",
    "* List Popular Data Science Languages\n",
    "* List Popular Data Science Libraries\n",
    "* List Popular Open Source Data Science Tools\n",
    "* Create an arithmetic expression that will convert minutes to hours\n"
   ]
  },
  {
   "cell_type": "markdown",
   "id": "95a96fe1-78d7-44f0-b215-a9ed422653ad",
   "metadata": {
    "tags": []
   },
   "source": [
    "### Some of the most popular Data Science Languages are:\n",
    "1. Python\n",
    "2. R\n",
    "3. SQL\n",
    "4. Scala\n",
    "5. C++\n",
    "6. Java\n"
   ]
  },
  {
   "cell_type": "markdown",
   "id": "7b61946b-5455-4c53-9587-851080748043",
   "metadata": {},
   "source": [
    "### Some of the most popular Data Science Libraries:\n",
    " 1. Pandas (Python)\n",
    " 2. NumPy (Python)\n",
    " 3. SciKit-Learn (Python)\n",
    " 4. MatPlotLib (Python)\n",
    " 5. TenserFlow (Python & R)\n",
    " 6. Big DL (Scala)\n",
    " 7. Vegas (Scala) \n",
    " 8. ggplot2 (R)"
   ]
  },
  {
   "cell_type": "markdown",
   "id": "e49e9cf1-4e80-4163-a8a2-b0d591f3843c",
   "metadata": {},
   "source": [
    "| Data Science Tools |\n",
    "| -------------|\n",
    "| MongoDB |\n",
    "| MySQL |\n",
    "| Apache AirFlow |\n",
    "| Node-Red |"
   ]
  },
  {
   "cell_type": "markdown",
   "id": "6fd37837-5f06-4030-90cb-be200795a8cf",
   "metadata": {},
   "source": [
    "### Below are a few examples of evaluating arithmetic expressions in Python:"
   ]
  },
  {
   "cell_type": "code",
   "execution_count": 2,
   "id": "bd7dbced-120a-4ced-8063-1470667b373d",
   "metadata": {
    "tags": []
   },
   "outputs": [
    {
     "data": {
      "text/plain": [
       "17"
      ]
     },
     "execution_count": 2,
     "metadata": {},
     "output_type": "execute_result"
    }
   ],
   "source": [
    "# This is a simple arithmetic expression that will complete the multiplication in the parenthesis then add 5\n",
    "(3*4)+5"
   ]
  },
  {
   "cell_type": "code",
   "execution_count": 3,
   "id": "63cc28e0-cc3d-4d9b-af4b-7a57d85695e4",
   "metadata": {
    "tags": []
   },
   "outputs": [
    {
     "data": {
      "text/plain": [
       "3.3333333333333335"
      ]
     },
     "execution_count": 3,
     "metadata": {},
     "output_type": "execute_result"
    }
   ],
   "source": [
    "# This will convert 200 minutes to hours by dividing by 60\n",
    "200/60"
   ]
  },
  {
   "cell_type": "markdown",
   "id": "27fdceea-b3a3-4ba9-8453-9d902452196b",
   "metadata": {},
   "source": [
    "## Author\n",
    "Siaka Traore"
   ]
  }
 ],
 "metadata": {
  "kernelspec": {
   "display_name": "Python",
   "language": "python",
   "name": "conda-env-python-py"
  },
  "language_info": {
   "codemirror_mode": {
    "name": "ipython",
    "version": 3
   },
   "file_extension": ".py",
   "mimetype": "text/x-python",
   "name": "python",
   "nbconvert_exporter": "python",
   "pygments_lexer": "ipython3",
   "version": "3.7.12"
  }
 },
 "nbformat": 4,
 "nbformat_minor": 5
}
